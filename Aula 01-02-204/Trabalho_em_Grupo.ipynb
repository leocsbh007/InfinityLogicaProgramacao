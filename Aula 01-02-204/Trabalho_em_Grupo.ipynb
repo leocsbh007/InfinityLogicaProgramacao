{
  "nbformat": 4,
  "nbformat_minor": 0,
  "metadata": {
    "colab": {
      "provenance": []
    },
    "kernelspec": {
      "name": "python3",
      "display_name": "Python 3"
    },
    "language_info": {
      "name": "python"
    }
  },
  "cells": [
    {
      "cell_type": "markdown",
      "source": [
        "# **Trabalho em Grupo**\n",
        "#### **Integrantes**: [ESCREVA O NOME COMPLETO DE CADA UM DOS INTEGRANTES DO GRUPO]"
      ],
      "metadata": {
        "id": "-KPoa-SA_jRa"
      }
    },
    {
      "cell_type": "markdown",
      "source": [
        "**Exercício 01**\n",
        "\n",
        "O Imposto Nacional Sobre Salários Altíssimos (INSSA) é um imposto que incidi sobre salários superiores a R$ 15.345,73, observando as regras a seguir:\n",
        "\n",
        "*   Salários **entre** R$ 15.345,73 e R$ 18.343,73 têm desconto de 4.75%;\n",
        "\n",
        "*   Salários **entre** R$ 18.345,73 e R$ 21.343,73 têm desconto de 7.75%;\n",
        "\n",
        "*   Salários **entre** R$ 21.345,73 e R$ 24.343,73 têm desconto de 4.75%.\n",
        "\n",
        "Faça um algoritmo que verifique:\n",
        "\n",
        "*   Se o INSSA incidirá sobre o salário informado pelo usuário;\n",
        "*   Qual o percentual de imposto que incidirá sobre o salário, caso se aplique as regras do INSSA;\n",
        "*   Qual a diferença do salário bruto (sem o imposto) e do salário líquído (com o imposto);\n",
        "*   Qual a representação em dinheiro (R$) do percentual do imposto.\n",
        "\n",
        "**Atenção**: desenvolva a atividade na célula de código abaixo.\n",
        "\n",
        "\n",
        "\n"
      ],
      "metadata": {
        "id": "6sRRj1ZvAABf"
      }
    },
    {
      "cell_type": "code",
      "source": [],
      "metadata": {
        "id": "tAapZRpNBwKV"
      },
      "execution_count": null,
      "outputs": []
    },
    {
      "cell_type": "markdown",
      "source": [
        "**Exercício 02**\n",
        "\n",
        "O Imposto Nacional Sobre Lucros Expressivos (INLE) é um imposto que incide sobre lucros superiores a R$ 50.000,00, seguindo as regras abaixo:\n",
        "\n",
        "*   Lucros entre R$ 50.000,00 e R$ 75.000,00 têm um imposto de 10%;\n",
        "\n",
        "*   Lucros entre R$ 75.000,00 e R$ 100.000,00 têm um imposto de 15%;\n",
        "\n",
        "*   Lucros acima de R$ 100.000,00 têm um imposto de 20%.\n",
        "\n",
        "Desenvolva um algoritmo que:\n",
        "\n",
        "*   Verifique se o INLE incidirá sobre o lucro informado pelo usuário;\n",
        "*   Determine o percentual de imposto que incidirá sobre o lucro, caso as regras do INLE se apliquem;\n",
        "*   Calcule a diferença entre o lucro bruto (sem o imposto) e o lucro líquido (com o imposto);\n",
        "*   Apresente a representação em dinheiro (R$) do percentual do imposto.\n",
        "\n",
        "**Atenção**: desenvolva a atividade na célula de código abaixo."
      ],
      "metadata": {
        "id": "ogTmCX0dB0p4"
      }
    },
    {
      "cell_type": "code",
      "source": [],
      "metadata": {
        "id": "n7CoZGtgC7fP"
      },
      "execution_count": null,
      "outputs": []
    },
    {
      "cell_type": "markdown",
      "source": [
        "**Exercício 03**\n",
        "\n",
        "O Programa de Bonificações por Produtividade (PBP) oferece bonificações de acordo com a produtividade mensal de um funcionário, seguindo as regras abaixo:\n",
        "\n",
        "*   Produtividade abaixo de 50 unidades: não há bonificação;\n",
        "\n",
        "*   Produtividade entre 50 e 100 unidades: bonificação de R$ 100,00;\n",
        "\n",
        "*   Produtividade acima de 100 unidades: bonificação de R$ 200,00.\n",
        "\n",
        "Crie um algoritmo que:\n",
        "\n",
        "*   Solicite a produtividade mensal do funcionário;\n",
        "*   Verifique se o funcionário tem direito a bonificação, de acordo com as regras do PBP;\n",
        "*   Exiba a bonificação a que o funcionário tem direito.\n",
        "\n",
        "**Atenção**: desenvolva a atividade na célula de código abaixo."
      ],
      "metadata": {
        "id": "h7V21as1C9O1"
      }
    },
    {
      "cell_type": "code",
      "source": [],
      "metadata": {
        "id": "iR-NVg95C8eE"
      },
      "execution_count": null,
      "outputs": []
    },
    {
      "cell_type": "markdown",
      "source": [
        "**Exercício 04**\n",
        "\n",
        "A Empresa de Energia Econômica (EEE) cobra a conta de energia elétrica dos consumidores de acordo com a seguinte tabela:\n",
        "\n",
        "*   Consumo até 100 kWh: R$ 0,50 por kWh consumido;\n",
        "\n",
        "*   Consumo entre 101 kWh e 200 kWh: R$ 0,75 por kWh consumido;\n",
        "\n",
        "*   Consumo acima de 200 kWh: R$ 1,00 por kWh consumido.\n",
        "\n",
        "Crie um programa que:\n",
        "\n",
        "*   Solicite ao usuário o consumo mensal de energia em kWh;\n",
        "*   Calcule o valor total da conta de acordo com a tabela da EEE.\n",
        "\n",
        "**Atenção**: desenvolva a atividade na célula de código abaixo."
      ],
      "metadata": {
        "id": "ynN5Dg3zDcio"
      }
    },
    {
      "cell_type": "code",
      "source": [],
      "metadata": {
        "id": "0-6ToW9ZDovJ"
      },
      "execution_count": null,
      "outputs": []
    },
    {
      "cell_type": "markdown",
      "source": [
        "**Exercício 05**\n",
        "\n",
        "Desenvolva um programa que simule um caixa eletrônico, permitindo que o usuário faça saques.\n",
        "\n",
        "O caixa possui notas de R$ 100,00, R$ 50,00, R$ 20,00 e R$ 10,00. O algoritmo deve:\n",
        "\n",
        "*   Solicitar o valor a ser sacado;\n",
        "\n",
        "*   Calcular e informar a quantidade de cada nota necessária para compor o valor total do saque;\n",
        "\n",
        "*   Garantir que o valor seja sacado utilizando a menor quantidade possível de notas.\n",
        "\n",
        "**Atenção**: desenvolva a atividade na célula de código abaixo."
      ],
      "metadata": {
        "id": "zWfFMtPrDMpC"
      }
    },
    {
      "cell_type": "code",
      "source": [],
      "metadata": {
        "id": "Ji_xPGxQD6pj"
      },
      "execution_count": null,
      "outputs": []
    },
    {
      "cell_type": "markdown",
      "source": [
        "**Exercício 06**\n",
        "\n",
        "O atendimento eletrônico da Telefônica Guanabara possui um menu eletrônico em que o usuário pode interagir diretamente com o Norberto, a Inteligência Eletrônica da empresa que auxilia os clientes na solução de problemas técnico, pagamentos, upgrade e downgrade de planos etc:\n",
        "\n",
        "*   Opção 1 - Compras de Novos Serviços\n",
        "*   Opção 2 - Atualização de Dados Cadastrais\n",
        "*   Opção 3 - Suporte Técnico\n",
        "*   Opção 4 - Contas e Pagamentos\n",
        "*   Opção 5 - Liberação de Linha/Internet\n",
        "*   Opção 6 - Contratação de Pacotes Adicionais\n",
        "*   Opção 7 - Transferência de Titularidade\n",
        "*   Opção 8 - Reclamações, Elogios e Sugestões\n",
        "*   Opção 9 - Falar com um Especialista\n",
        "*   Opção 0 - Sair do Menu Eletrônico\n",
        "\n",
        "Implemente um algoritmo para o funcionamento do Menu Eletrônico da Telefônica Guanabara.\n",
        "\n",
        "**Atenção**: desenvolva a atividade na célula de código abaixo.\n",
        "\n"
      ],
      "metadata": {
        "id": "B2ONMvzyEQKe"
      }
    },
    {
      "cell_type": "code",
      "source": [],
      "metadata": {
        "id": "qqXMvqTpFjcE"
      },
      "execution_count": null,
      "outputs": []
    },
    {
      "cell_type": "markdown",
      "source": [
        "**Exercício 07**\n",
        "\n",
        "Imagine um sistema de controle de estoque para uma loja de eletrônicos. Desenvolva um algoritmo que simule as seguintes opções:\n",
        "\n",
        "*   Opção 1 - Consultar Estoque\n",
        "*   Opção 2 - Adicionar Produto ao Estoque\n",
        "*   Opção 3 - Remover Produto do Estoque\n",
        "*   Opção 0 - Sair\n",
        "\n",
        "Implemente um programa que permita ao usuário escolher entre as opções e realizar as ações correspondentes.\n",
        "\n",
        "**Atenção**: desenvolva a atividade na célula de código abaixo."
      ],
      "metadata": {
        "id": "cbVHMO2dFjmw"
      }
    },
    {
      "cell_type": "code",
      "source": [],
      "metadata": {
        "id": "tnXAndVmFtEl"
      },
      "execution_count": null,
      "outputs": []
    },
    {
      "cell_type": "markdown",
      "source": [
        "**Exercício 08**\n",
        "\n",
        "Desenvolva um algoritmo para um sistema de pedidos online de uma pizzaria. O menu de opções pode ser algo como:\n",
        "\n",
        "*   Opção 1 - Visualizar Menu\n",
        "*   Opção 2 - Realizar Pedido\n",
        "*   Opção 3 - Consultar Status do Pedido\n",
        "*   Opção 0 - Sair\n",
        "\n",
        "O programa deve permitir que o usuário navegue pelo menu, visualize os itens disponíveis, faça pedidos e consulte o status dos pedidos.\n",
        "\n",
        "**Atenção**: desenvolva a atividade na célula de código abaixo."
      ],
      "metadata": {
        "id": "rMMJ6kW5Ftci"
      }
    },
    {
      "cell_type": "code",
      "source": [],
      "metadata": {
        "id": "LTXNryfAGGbG"
      },
      "execution_count": null,
      "outputs": []
    },
    {
      "cell_type": "markdown",
      "source": [
        "**Exercício 09**\n",
        "\n",
        "Crie um sistema de gerenciamento de tarefas. O menu pode conter opções como:\n",
        "\n",
        "*   Opção 1 - Visualizar Lista de Tarefas\n",
        "*   Opção 2 - Adicionar Nova Tarefa\n",
        "*   Opção 3 - Marcar Tarefa como Concluída\n",
        "*   Opção 0 - Sair\n",
        "\n",
        "Desenvolva um programa que permita ao usuário gerenciar suas tarefas visualizando, adicionando e marcando como concluídas.\n",
        "\n",
        "**Atenção**: desenvolva a atividade na célula de código abaixo."
      ],
      "metadata": {
        "id": "5Ru2vHWzGM5b"
      }
    },
    {
      "cell_type": "code",
      "source": [],
      "metadata": {
        "id": "krUGt-FfGkHl"
      },
      "execution_count": null,
      "outputs": []
    },
    {
      "cell_type": "markdown",
      "source": [
        "**Exercício 10**\n",
        "\n",
        "Crie um sistema de rastreamento de encomendas para uma empresa de logística. O menu pode conter opções como:\n",
        "\n",
        "*   Opção 1 - Consultar Status da Encomenda\n",
        "*   Opção 2 - Atualizar Status da Encomenda\n",
        "*   Opção 3 - Adicionar Nova Encomenda\n",
        "*   Opção 0 - Sair\n",
        "\n",
        "O programa deve permitir ao usuário rastrear encomendas, atualizar seus status e adicionar novas encomendas.\n",
        "\n",
        "**Atenção**: desenvolva a atividade na célula de código abaixo."
      ],
      "metadata": {
        "id": "IrNtrr5TGoP_"
      }
    }
  ]
}